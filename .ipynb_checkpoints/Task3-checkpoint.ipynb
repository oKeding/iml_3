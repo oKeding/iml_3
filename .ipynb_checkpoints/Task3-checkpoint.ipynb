{
 "cells": [
  {
   "cell_type": "code",
   "execution_count": null,
   "metadata": {},
   "outputs": [],
   "source": [
    "import numpy as np\n",
    "import pandas as pd\n",
    "from sklearn.neural_network import MLPClassifier\n",
    "from sklearn.model_selection import KFold\n",
    "from sklearn.preprocessing import OneHotEncoder\n",
    "\n",
    "x_train = pd.read_csv('train.csv')\n",
    "x_test = pd.read_csv('test.csv')\n",
    "\n",
    "letters = x_train['Sequence'].apply(lambda x: pd.Series(list(x)))\n",
    "x_train = x_train.join(letters)\n",
    "print(x_train)\n",
    "\n",
    "letters = x_test['Sequence'].apply(lambda x: pd.Series(list(x)))\n",
    "x_test = x_test.join(letters)"
   ]
  },
  {
   "cell_type": "code",
   "execution_count": 26,
   "metadata": {},
   "outputs": [
    {
     "name": "stdout",
     "output_type": "stream",
     "text": [
      "       Sequence  Active  0  1  2  3  0_A  0_C  0_D  0_E  ...  3_M  3_N  3_P  \\\n",
      "0          DKWL       0  D  K  W  L    0    0    1    0  ...    0    0    0   \n",
      "1          FCHN       0  F  C  H  N    0    0    0    0  ...    0    1    0   \n",
      "2          KDQP       0  K  D  Q  P    0    0    0    0  ...    0    0    1   \n",
      "3          FNWI       0  F  N  W  I    0    0    0    0  ...    0    0    0   \n",
      "4          NKRM       0  N  K  R  M    0    0    0    0  ...    1    0    0   \n",
      "...         ...     ... .. .. .. ..  ...  ...  ...  ...  ...  ...  ...  ...   \n",
      "111995     GSME       0  G  S  M  E    0    0    0    0  ...    0    0    0   \n",
      "111996     DLPT       0  D  L  P  T    0    0    1    0  ...    0    0    0   \n",
      "111997     SGHC       0  S  G  H  C    0    0    0    0  ...    0    0    0   \n",
      "111998     KIGT       0  K  I  G  T    0    0    0    0  ...    0    0    0   \n",
      "111999     PGPT       0  P  G  P  T    0    0    0    0  ...    0    0    0   \n",
      "\n",
      "        3_Q  3_R  3_S  3_T  3_V  3_W  3_Y  \n",
      "0         0    0    0    0    0    0    0  \n",
      "1         0    0    0    0    0    0    0  \n",
      "2         0    0    0    0    0    0    0  \n",
      "3         0    0    0    0    0    0    0  \n",
      "4         0    0    0    0    0    0    0  \n",
      "...     ...  ...  ...  ...  ...  ...  ...  \n",
      "111995    0    0    0    0    0    0    0  \n",
      "111996    0    0    0    1    0    0    0  \n",
      "111997    0    0    0    0    0    0    0  \n",
      "111998    0    0    0    1    0    0    0  \n",
      "111999    0    0    0    1    0    0    0  \n",
      "\n",
      "[112000 rows x 86 columns]\n"
     ]
    }
   ],
   "source": [
    "one_hot = pd.get_dummies(data=x_train, columns=[0, 1, 2, 3])\n",
    "x_train = x_train.merge(one_hot)\n",
    "print(x_train)\n",
    "\n",
    "one_hot = pd.get_dummies(data=x_test, columns=[0, 1, 2, 3])\n",
    "x_test = x_test.merge(one_hot)\n",
    "print(x_test)"
   ]
  },
  {
   "cell_type": "code",
   "execution_count": null,
   "metadata": {},
   "outputs": [],
   "source": []
  },
  {
   "cell_type": "code",
   "execution_count": 2,
   "metadata": {},
   "outputs": [],
   "source": [
    "# Implement Neural network <-- there is documentation in scikit\n",
    "clf = MLPClassifier(solver='sgd', alpha=1e-4,hidden_layer_sizes=(4,2), random_state=1,activation='logistic')\n",
    "clf.fit(x_train[['l1','l2','l3','l4']], x_train['Active'])\n",
    "pred = clf.predict(x_test[['l1','l2','l3','l4']])"
   ]
  },
  {
   "cell_type": "code",
   "execution_count": null,
   "metadata": {},
   "outputs": [],
   "source": [
    "# Maybe split into training and validating sets?"
   ]
  },
  {
   "cell_type": "code",
   "execution_count": null,
   "metadata": {},
   "outputs": [],
   "source": [
    "# TODO: different solvers, activations and hyperparameters to choose. Can use gridsearchCV to try all"
   ]
  }
 ],
 "metadata": {
  "kernelspec": {
   "display_name": "Python 3",
   "language": "python",
   "name": "python3"
  },
  "language_info": {
   "codemirror_mode": {
    "name": "ipython",
    "version": 3
   },
   "file_extension": ".py",
   "mimetype": "text/x-python",
   "name": "python",
   "nbconvert_exporter": "python",
   "pygments_lexer": "ipython3",
   "version": "3.7.6"
  }
 },
 "nbformat": 4,
 "nbformat_minor": 4
}
