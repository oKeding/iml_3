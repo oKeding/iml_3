{
 "cells": [
  {
   "cell_type": "code",
   "execution_count": 4,
   "metadata": {},
   "outputs": [
    {
     "name": "stdout",
     "output_type": "stream",
     "text": [
      "       Sequence  Active  l1  l2  l3  l4\n",
      "0          DKWL       0   3  10  22  11\n",
      "1          FCHN       0   5   2   7  13\n",
      "2          KDQP       0  10   3  16  15\n",
      "3          FNWI       0   5  13  22   8\n",
      "4          NKRM       0  13  10  17  12\n",
      "...         ...     ...  ..  ..  ..  ..\n",
      "111995     GSME       0   6  18  12   4\n",
      "111996     DLPT       0   3  11  15  19\n",
      "111997     SGHC       0  18   6   7   2\n",
      "111998     KIGT       0  10   8   6  19\n",
      "111999     PGPT       0  15   6  15  19\n",
      "\n",
      "[112000 rows x 6 columns]\n"
     ]
    }
   ],
   "source": [
    "import numpy as np\n",
    "import pandas as pd\n",
    "from sklearn.neural_network import MLPClassifier\n",
    "\n",
    "x_train = pd.read_csv('train.csv')\n",
    "x_test = pd.read_csv('test.csv')\n",
    "\n",
    "letter1 = np.empty(len(x_train['Sequence']), dtype='object')\n",
    "letter2 = np.empty(len(x_train['Sequence']), dtype='object')\n",
    "letter3 = np.empty(len(x_train['Sequence']), dtype='object')\n",
    "letter4 = np.empty(len(x_train['Sequence']), dtype='object')\n",
    "\n",
    "for i in range(0,len(x_train['Sequence'])):\n",
    "    letter1[i] = ord(list(x_train['Sequence'][i])[0])-65\n",
    "    letter2[i] = ord(list(x_train['Sequence'][i])[1])-65\n",
    "    letter3[i] = ord(list(x_train['Sequence'][i])[2])-65\n",
    "    letter4[i] = ord(list(x_train['Sequence'][i])[3])-65\n",
    "\n",
    "x_train['l1'] = pd.Series(letter1,index=x_train.index)\n",
    "x_train['l2'] = pd.Series(letter2,index=x_train.index)\n",
    "x_train['l3'] = pd.Series(letter3,index=x_train.index)\n",
    "x_train['l4'] = pd.Series(letter4,index=x_train.index)\n",
    "\n",
    "for i in range(0,len(x_test['Sequence'])):\n",
    "    letter1[i] = ord(list(x_test['Sequence'][i])[0])-65\n",
    "    letter2[i] = ord(list(x_test['Sequence'][i])[1])-65\n",
    "    letter3[i] = ord(list(x_test['Sequence'][i])[2])-65\n",
    "    letter4[i] = ord(list(x_test['Sequence'][i])[3])-65\n",
    "x_test['l1'] = pd.Series(letter1,index=x_train.index)\n",
    "x_test['l2'] = pd.Series(letter2,index=x_train.index)\n",
    "x_test['l3'] = pd.Series(letter3,index=x_train.index)\n",
    "x_test['l4'] = pd.Series(letter4,index=x_train.index)\n",
    "\n",
    "print(x_train)"
   ]
  },
  {
   "cell_type": "code",
   "execution_count": 5,
   "metadata": {},
   "outputs": [
    {
     "name": "stdout",
     "output_type": "stream",
     "text": [
      "4213\n"
     ]
    }
   ],
   "source": [
    "# Implement Neural network <-- there is documentation in scikit\n",
    "clf = MLPClassifier(solver='sgd', alpha=1e-4,hidden_layer_sizes=(4,2), random_state=1,activation='logistic')\n",
    "clf.fit(x_train[['l1','l2','l3','l4']], x_train['Active'])\n",
    "pred = clf.predict(x_test[['l1','l2','l3','l4']])"
   ]
  },
  {
   "cell_type": "code",
   "execution_count": null,
   "metadata": {},
   "outputs": [],
   "source": [
    "# Maybe split into training and validating sets?"
   ]
  },
  {
   "cell_type": "code",
   "execution_count": null,
   "metadata": {},
   "outputs": [],
   "source": []
  }
 ],
 "metadata": {
  "kernelspec": {
   "display_name": "Python 3",
   "language": "python",
   "name": "python3"
  },
  "language_info": {
   "codemirror_mode": {
    "name": "ipython",
    "version": 3
   },
   "file_extension": ".py",
   "mimetype": "text/x-python",
   "name": "python",
   "nbconvert_exporter": "python",
   "pygments_lexer": "ipython3",
   "version": "3.6.9"
  }
 },
 "nbformat": 4,
 "nbformat_minor": 4
}
