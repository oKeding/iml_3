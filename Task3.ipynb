{
 "cells": [
  {
   "cell_type": "markdown",
   "metadata": {},
   "source": [
    "## Import libraries and get data as letters:"
   ]
  },
  {
   "cell_type": "code",
   "execution_count": 49,
   "metadata": {},
   "outputs": [
    {
     "name": "stdout",
     "output_type": "stream",
     "text": [
      "      Active  0  1  2  3\n",
      "0          0  D  K  W  L\n",
      "1          0  F  C  H  N\n",
      "2          0  K  D  Q  P\n",
      "3          0  F  N  W  I\n",
      "4          0  N  K  R  M\n",
      "...      ... .. .. .. ..\n",
      "9995       0  C  P  M  Q\n",
      "9996       0  W  T  P  Q\n",
      "9997       0  N  T  E  S\n",
      "9998       0  F  A  L  D\n",
      "9999       0  F  S  G  Q\n",
      "\n",
      "[10000 rows x 5 columns]\n"
     ]
    }
   ],
   "source": [
    "import numpy as np\n",
    "import pandas as pd\n",
    "from sklearn.neural_network import MLPClassifier\n",
    "from sklearn.model_selection import KFold\n",
    "from sklearn.preprocessing import OneHotEncoder\n",
    "\n",
    "x_train = pd.read_csv('train.csv')\n",
    "\n",
    "x_train = x_train[0:10000]\n",
    "\n",
    "letters = x_train['Sequence'].apply(lambda x: pd.Series(list(x)))\n",
    "x_train = x_train.drop('Sequence', axis = 1)\n",
    "x_train = x_train.join(letters)\n",
    "print(x_train)\n",
    "\n",
    "#x_test = pd.read_csv('test.csv')\n",
    "#letters = x_test['Sequence'].apply(lambda x: pd.Series(list(x)))\n",
    "#x_test = x_test.drop('Sequence', axis = 1)\n",
    "#x_test = x_test.join(letters)"
   ]
  },
  {
   "cell_type": "markdown",
   "metadata": {},
   "source": [
    "## One hot encoding:"
   ]
  },
  {
   "cell_type": "code",
   "execution_count": 50,
   "metadata": {},
   "outputs": [
    {
     "name": "stdout",
     "output_type": "stream",
     "text": [
      "      Active  0_A  0_C  0_D  0_E  0_F  0_G  0_H  0_I  0_K  ...  3_M  3_N  3_P  \\\n",
      "0          0    0    0    1    0    0    0    0    0    0  ...    0    0    0   \n",
      "1          0    0    0    0    0    1    0    0    0    0  ...    0    1    0   \n",
      "2          0    0    0    0    0    0    0    0    0    1  ...    0    0    1   \n",
      "3          0    0    0    0    0    1    0    0    0    0  ...    0    0    0   \n",
      "4          0    0    0    0    0    0    0    0    0    0  ...    1    0    0   \n",
      "...      ...  ...  ...  ...  ...  ...  ...  ...  ...  ...  ...  ...  ...  ...   \n",
      "9995       0    0    1    0    0    0    0    0    0    0  ...    0    0    0   \n",
      "9996       0    0    0    0    0    0    0    0    0    0  ...    0    0    0   \n",
      "9997       0    0    0    0    0    0    0    0    0    0  ...    0    0    0   \n",
      "9998       0    0    0    0    0    1    0    0    0    0  ...    0    0    0   \n",
      "9999       0    0    0    0    0    1    0    0    0    0  ...    0    0    0   \n",
      "\n",
      "      3_Q  3_R  3_S  3_T  3_V  3_W  3_Y  \n",
      "0       0    0    0    0    0    0    0  \n",
      "1       0    0    0    0    0    0    0  \n",
      "2       0    0    0    0    0    0    0  \n",
      "3       0    0    0    0    0    0    0  \n",
      "4       0    0    0    0    0    0    0  \n",
      "...   ...  ...  ...  ...  ...  ...  ...  \n",
      "9995    1    0    0    0    0    0    0  \n",
      "9996    1    0    0    0    0    0    0  \n",
      "9997    0    0    1    0    0    0    0  \n",
      "9998    0    0    0    0    0    0    0  \n",
      "9999    1    0    0    0    0    0    0  \n",
      "\n",
      "[10000 rows x 81 columns]\n"
     ]
    }
   ],
   "source": [
    "x_train_oh = pd.get_dummies(data=x_train, columns=[0, 1, 2, 3], sparse=True)\n",
    "print(x_train_oh)\n",
    "\n",
    "#x_test_oh = pd.get_dummies(data=x_test, columns=[0, 1, 2, 3], sparse=True)"
   ]
  },
  {
   "cell_type": "code",
   "execution_count": null,
   "metadata": {},
   "outputs": [],
   "source": []
  },
  {
   "cell_type": "code",
   "execution_count": 51,
   "metadata": {},
   "outputs": [
    {
     "name": "stdout",
     "output_type": "stream",
     "text": [
      "[0 0 0 ... 0 0 0]\n"
     ]
    }
   ],
   "source": [
    "# Implement Neural network <-- there is documentation in scikit\n",
    "clf = MLPClassifier(solver='sgd', alpha=1e-4, hidden_layer_sizes=(160,4), random_state=1, activation='logistic', max_iter=400)\n",
    "clf.fit(x_train_oh.iloc[:, 1:], x_train_oh['Active'])\n",
    "pred = clf.predict(x_train_oh.iloc[:, 1:])\n",
    "print(pred)"
   ]
  },
  {
   "cell_type": "code",
   "execution_count": 52,
   "metadata": {},
   "outputs": [
    {
     "data": {
      "text/plain": [
       "0.0"
      ]
     },
     "execution_count": 52,
     "metadata": {},
     "output_type": "execute_result"
    }
   ],
   "source": [
    "# Maybe split into training and validating sets?"
   ]
  },
  {
   "cell_type": "code",
   "execution_count": null,
   "metadata": {},
   "outputs": [],
   "source": [
    "# TODO: different solvers, activations and hyperparameters to choose. Can use gridsearchCV to try all"
   ]
  }
 ],
 "metadata": {
  "kernelspec": {
   "display_name": "Python 3",
   "language": "python",
   "name": "python3"
  },
  "language_info": {
   "codemirror_mode": {
    "name": "ipython",
    "version": 3
   },
   "file_extension": ".py",
   "mimetype": "text/x-python",
   "name": "python",
   "nbconvert_exporter": "python",
   "pygments_lexer": "ipython3",
   "version": "3.7.6"
  }
 },
 "nbformat": 4,
 "nbformat_minor": 4
}
